{
 "cells": [
  {
   "cell_type": "markdown",
   "metadata": {},
   "source": [
    "## Model Selection"
   ]
  },
  {
   "cell_type": "markdown",
   "metadata": {},
   "source": [
    "Using the r2, mse(Mean Squared Error) and mape_test as scoring metrics and refit using r2.\n",
    "I considered R2 because I wanted to check regression model fits the training data. This is best to analyze the fit of a regression model.\n",
    "\n",
    "### Feature Engineering:\n",
    "\n",
    "The last review column was split into last_review_year, last_review_month and last_review_date to obtain three new features and the redundant last_review column was dropped\n",
    "\n",
    "### Preprocessing\n",
    "- Applied Simple Imputer to replace the with the most frequent value. \n",
    "- Count Vectorizer to obtain the bag of words for the name feature to analyze usage of which words attract the customers.\n",
    "- One Hot Encoder on the categorical features\n",
    "\n",
    "Applied the column transformer on the training set to obtain the final transformed training dataset for modelling.The final training set has a shape of 17100 rows × 63 columns"
   ]
  },
  {
   "cell_type": "markdown",
   "metadata": {},
   "source": [
    "#### Models Selected:\n",
    "    \n",
    "    Baseline: Dummy Regressor\n",
    "    1) Ridge\n",
    "    2) Lasso\n",
    "    3) Random Forest Regressor\n",
    "    4) LGBM Regressor\n",
    "    5) CatBoost Regressor\n",
    "    6) XGBoost Regressor\n",
    "    7) Polynomial Features\n",
    "    "
   ]
  },
  {
   "cell_type": "markdown",
   "metadata": {},
   "source": [
    "In assessing these models I considered the following:\n",
    "\n",
    "- Split the training set further into training and validation set\n",
    "- Perform training on the training set \n",
    "- Generate and analyze the scoring metrics from the validation set\n"
   ]
  },
  {
   "cell_type": "code",
   "execution_count": 6,
   "metadata": {},
   "outputs": [],
   "source": [
    "import pandas as pd\n",
    "\n",
    "df = pd.read_csv(\"../results/results.csv/results.csv\")\n",
    "df.to_html(\"../results/results.csv/htmlresult.html\")\n"
   ]
  },
  {
   "cell_type": "markdown",
   "metadata": {},
   "source": [
    "- All the models are overfitting, hence tried to reduce the number of features using fetaures selection with RFE and RFECV, but the number of features remained the same and the scores did not improve much.\n",
    "-  The results showed that Ridge, Random Forest Regressor, LGBM regressor and CatBoost have performed well. So carrying out Hyperparam tuning and ensemble model with these best performing models."
   ]
  },
  {
   "cell_type": "code",
   "execution_count": 8,
   "metadata": {},
   "outputs": [
    {
     "data": {
      "text/html": [
       "<table border=\"1\" class=\"dataframe\">\n",
       "  <thead>\n",
       "    <tr style=\"text-align: right;\">\n",
       "      <th></th>\n",
       "      <th>Unnamed: 0</th>\n",
       "      <th>Dummy</th>\n",
       "      <th>Ridge</th>\n",
       "      <th>Lasso</th>\n",
       "      <th>Random_Forest_reg</th>\n",
       "      <th>XGBoost_reg</th>\n",
       "      <th>lgbm_reg</th>\n",
       "      <th>catBoost_reg</th>\n",
       "      <th>poly_ridge</th>\n",
       "      <th>Stacking</th>\n",
       "    </tr>\n",
       "  </thead>\n",
       "  <tbody>\n",
       "    <tr>\n",
       "      <th>0</th>\n",
       "      <td>r2_test</td>\n",
       "      <td>-0.000093</td>\n",
       "      <td>0.422865</td>\n",
       "      <td>0.335831</td>\n",
       "      <td>0.508754</td>\n",
       "      <td>0.410337</td>\n",
       "      <td>0.472070</td>\n",
       "      <td>0.519029</td>\n",
       "      <td>0.413509</td>\n",
       "      <td>0.507878</td>\n",
       "    </tr>\n",
       "    <tr>\n",
       "      <th>1</th>\n",
       "      <td>mse_test</td>\n",
       "      <td>19.009575</td>\n",
       "      <td>10.970067</td>\n",
       "      <td>12.624397</td>\n",
       "      <td>9.337511</td>\n",
       "      <td>11.208191</td>\n",
       "      <td>10.034779</td>\n",
       "      <td>9.142199</td>\n",
       "      <td>11.147900</td>\n",
       "      <td>9.354160</td>\n",
       "    </tr>\n",
       "    <tr>\n",
       "      <th>2</th>\n",
       "      <td>mape_test</td>\n",
       "      <td>13.522943</td>\n",
       "      <td>3.878592</td>\n",
       "      <td>8.499137</td>\n",
       "      <td>0.410685</td>\n",
       "      <td>0.823882</td>\n",
       "      <td>0.731395</td>\n",
       "      <td>0.921665</td>\n",
       "      <td>4.794732</td>\n",
       "      <td>1.957865</td>\n",
       "    </tr>\n",
       "    <tr>\n",
       "      <th>3</th>\n",
       "      <td>r2_train</td>\n",
       "      <td>0.000000</td>\n",
       "      <td>0.401595</td>\n",
       "      <td>0.318410</td>\n",
       "      <td>0.921438</td>\n",
       "      <td>0.957556</td>\n",
       "      <td>0.783037</td>\n",
       "      <td>0.880312</td>\n",
       "      <td>0.558433</td>\n",
       "      <td>0.797119</td>\n",
       "    </tr>\n",
       "    <tr>\n",
       "      <th>4</th>\n",
       "      <td>mse_train</td>\n",
       "      <td>17.925656</td>\n",
       "      <td>10.726800</td>\n",
       "      <td>12.217948</td>\n",
       "      <td>1.408276</td>\n",
       "      <td>0.760844</td>\n",
       "      <td>3.889201</td>\n",
       "      <td>2.145484</td>\n",
       "      <td>7.915378</td>\n",
       "      <td>3.636767</td>\n",
       "    </tr>\n",
       "    <tr>\n",
       "      <th>5</th>\n",
       "      <td>mape_train</td>\n",
       "      <td>14.367166</td>\n",
       "      <td>3.906157</td>\n",
       "      <td>9.011416</td>\n",
       "      <td>0.150984</td>\n",
       "      <td>0.610616</td>\n",
       "      <td>0.687437</td>\n",
       "      <td>0.864040</td>\n",
       "      <td>4.450340</td>\n",
       "      <td>1.781665</td>\n",
       "    </tr>\n",
       "  </tbody>\n",
       "</table>"
      ],
      "text/plain": [
       "<IPython.core.display.HTML object>"
      ]
     },
     "execution_count": 8,
     "metadata": {},
     "output_type": "execute_result"
    }
   ],
   "source": [
    "from IPython.display import HTML\n",
    "\n",
    "HTML(\"../results/results.csv/htmlresult.html\")"
   ]
  },
  {
   "cell_type": "code",
   "execution_count": null,
   "metadata": {},
   "outputs": [],
   "source": []
  },
  {
   "cell_type": "markdown",
   "metadata": {},
   "source": [
    "### Hyperparameter tuning"
   ]
  },
  {
   "cell_type": "code",
   "execution_count": null,
   "metadata": {},
   "outputs": [],
   "source": [
    "Performed Hyper paramtuning and obtained the best params for each of the selected models."
   ]
  },
  {
   "cell_type": "markdown",
   "metadata": {},
   "source": [
    "### Ensemble Model- Stacking Regressor"
   ]
  },
  {
   "cell_type": "markdown",
   "metadata": {},
   "source": [
    "Built a stacking ensemble model to find if there is any improvement in the scores. Stacking model gave the best results compared to all the others models.\n"
   ]
  },
  {
   "cell_type": "markdown",
   "metadata": {},
   "source": [
    "### Predictions on test data"
   ]
  }
 ],
 "metadata": {
  "kernelspec": {
   "display_name": "Python 3 (ipykernel)",
   "language": "python",
   "name": "python3"
  },
  "language_info": {
   "codemirror_mode": {
    "name": "ipython",
    "version": 3
   },
   "file_extension": ".py",
   "mimetype": "text/x-python",
   "name": "python",
   "nbconvert_exporter": "python",
   "pygments_lexer": "ipython3",
   "version": "3.9.7"
  },
  "widgets": {
   "application/vnd.jupyter.widget-state+json": {
    "state": {},
    "version_major": 2,
    "version_minor": 0
   }
  }
 },
 "nbformat": 4,
 "nbformat_minor": 4
}
